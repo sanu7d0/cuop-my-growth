{
 "cells": [
  {
   "cell_type": "code",
   "execution_count": 2,
   "metadata": {},
   "outputs": [],
   "source": [
    "import pandas as pd\n",
    "import numpy as np\n",
    "from tqdm.notebook import tqdm\n",
    "from wordcloud import STOPWORDS\n",
    "import nltk\n",
    "import re"
   ]
  },
  {
   "cell_type": "code",
   "execution_count": 3,
   "metadata": {},
   "outputs": [
    {
     "data": {
      "text/html": [
       "<div>\n",
       "<style scoped>\n",
       "    .dataframe tbody tr th:only-of-type {\n",
       "        vertical-align: middle;\n",
       "    }\n",
       "\n",
       "    .dataframe tbody tr th {\n",
       "        vertical-align: top;\n",
       "    }\n",
       "\n",
       "    .dataframe thead th {\n",
       "        text-align: right;\n",
       "    }\n",
       "</style>\n",
       "<table border=\"1\" class=\"dataframe\">\n",
       "  <thead>\n",
       "    <tr style=\"text-align: right;\">\n",
       "      <th></th>\n",
       "      <th></th>\n",
       "      <th>review</th>\n",
       "      <th>voted_up</th>\n",
       "    </tr>\n",
       "    <tr>\n",
       "      <th>Title</th>\n",
       "      <th></th>\n",
       "      <th></th>\n",
       "      <th></th>\n",
       "    </tr>\n",
       "  </thead>\n",
       "  <tbody>\n",
       "    <tr>\n",
       "      <th rowspan=\"5\" valign=\"top\">BONEWORKS</th>\n",
       "      <th>0</th>\n",
       "      <td>- There was a turret down the street keeping ...</td>\n",
       "      <td>True</td>\n",
       "    </tr>\n",
       "    <tr>\n",
       "      <th>1</th>\n",
       "      <td>When I first purchased this game my friend tol...</td>\n",
       "      <td>True</td>\n",
       "    </tr>\n",
       "    <tr>\n",
       "      <th>2</th>\n",
       "      <td>Wow... It actually lived up to the hype. Amazi...</td>\n",
       "      <td>True</td>\n",
       "    </tr>\n",
       "    <tr>\n",
       "      <th>3</th>\n",
       "      <td>In an early encounter with the robo-spiders, o...</td>\n",
       "      <td>True</td>\n",
       "    </tr>\n",
       "    <tr>\n",
       "      <th>4</th>\n",
       "      <td>like if you are a real boner</td>\n",
       "      <td>True</td>\n",
       "    </tr>\n",
       "    <tr>\n",
       "      <th>...</th>\n",
       "      <th>...</th>\n",
       "      <td>...</td>\n",
       "      <td>...</td>\n",
       "    </tr>\n",
       "    <tr>\n",
       "      <th rowspan=\"5\" valign=\"top\">Panther VR</th>\n",
       "      <th>64</th>\n",
       "      <td>10/10  really fun</td>\n",
       "      <td>True</td>\n",
       "    </tr>\n",
       "    <tr>\n",
       "      <th>65</th>\n",
       "      <td>A dev team of only two. That's what this is an...</td>\n",
       "      <td>True</td>\n",
       "    </tr>\n",
       "    <tr>\n",
       "      <th>66</th>\n",
       "      <td>The game itself  is great, however you are ver...</td>\n",
       "      <td>True</td>\n",
       "    </tr>\n",
       "    <tr>\n",
       "      <th>67</th>\n",
       "      <td>Very well made game, cant wait for future upda...</td>\n",
       "      <td>True</td>\n",
       "    </tr>\n",
       "    <tr>\n",
       "      <th>68</th>\n",
       "      <td>waited for months and its amazing</td>\n",
       "      <td>True</td>\n",
       "    </tr>\n",
       "  </tbody>\n",
       "</table>\n",
       "<p>422980 rows × 2 columns</p>\n",
       "</div>"
      ],
      "text/plain": [
       "                                                          review  voted_up\n",
       "Title                                                                     \n",
       "BONEWORKS  0    - There was a turret down the street keeping ...      True\n",
       "           1   When I first purchased this game my friend tol...      True\n",
       "           2   Wow... It actually lived up to the hype. Amazi...      True\n",
       "           3   In an early encounter with the robo-spiders, o...      True\n",
       "           4                        like if you are a real boner      True\n",
       "...                                                          ...       ...\n",
       "Panther VR 64                                  10/10  really fun      True\n",
       "           65  A dev team of only two. That's what this is an...      True\n",
       "           66  The game itself  is great, however you are ver...      True\n",
       "           67  Very well made game, cant wait for future upda...      True\n",
       "           68                  waited for months and its amazing      True\n",
       "\n",
       "[422980 rows x 2 columns]"
      ]
     },
     "execution_count": 3,
     "metadata": {},
     "output_type": "execute_result"
    }
   ],
   "source": [
    "data = pd.read_csv(\"./dataset/steamvr_reviews_all.csv\", index_col=[0,1])[[\"review\", \"voted_up\"]]\n",
    "data"
   ]
  },
  {
   "cell_type": "code",
   "execution_count": 4,
   "metadata": {},
   "outputs": [
    {
     "data": {
      "application/vnd.jupyter.widget-view+json": {
       "model_id": "578bbd94868d46bd986a387d365fe765",
       "version_major": 2,
       "version_minor": 0
      },
      "text/plain": [
       "  0%|          | 0/422980 [00:00<?, ?it/s]"
      ]
     },
     "metadata": {},
     "output_type": "display_data"
    },
    {
     "data": {
      "text/html": [
       "<div>\n",
       "<style scoped>\n",
       "    .dataframe tbody tr th:only-of-type {\n",
       "        vertical-align: middle;\n",
       "    }\n",
       "\n",
       "    .dataframe tbody tr th {\n",
       "        vertical-align: top;\n",
       "    }\n",
       "\n",
       "    .dataframe thead th {\n",
       "        text-align: right;\n",
       "    }\n",
       "</style>\n",
       "<table border=\"1\" class=\"dataframe\">\n",
       "  <thead>\n",
       "    <tr style=\"text-align: right;\">\n",
       "      <th></th>\n",
       "      <th></th>\n",
       "      <th>review</th>\n",
       "      <th>voted_up</th>\n",
       "      <th>morphs</th>\n",
       "    </tr>\n",
       "    <tr>\n",
       "      <th>Title</th>\n",
       "      <th></th>\n",
       "      <th></th>\n",
       "      <th></th>\n",
       "      <th></th>\n",
       "    </tr>\n",
       "  </thead>\n",
       "  <tbody>\n",
       "    <tr>\n",
       "      <th rowspan=\"5\" valign=\"top\">BONEWORKS</th>\n",
       "      <th>0</th>\n",
       "      <td>- There was a turret down the street keeping ...</td>\n",
       "      <td>True</td>\n",
       "      <td>[blindly, trash, ran, side, turret, n't, keepi...</td>\n",
       "    </tr>\n",
       "    <tr>\n",
       "      <th>1</th>\n",
       "      <td>When I first purchased this game my friend tol...</td>\n",
       "      <td>True</td>\n",
       "      <td>[wrong, vr, played, anyone, favorite, one, com...</td>\n",
       "    </tr>\n",
       "    <tr>\n",
       "      <th>2</th>\n",
       "      <td>Wow... It actually lived up to the hype. Amazi...</td>\n",
       "      <td>True</td>\n",
       "      <td>[better, edit, even, physics, amazing, actuall...</td>\n",
       "    </tr>\n",
       "    <tr>\n",
       "      <th>3</th>\n",
       "      <td>In an early encounter with the robo-spiders, o...</td>\n",
       "      <td>True</td>\n",
       "      <td>[trying, proceeded, sold, felt, played, one, k...</td>\n",
       "    </tr>\n",
       "    <tr>\n",
       "      <th>4</th>\n",
       "      <td>like if you are a real boner</td>\n",
       "      <td>True</td>\n",
       "      <td>[boner, real]</td>\n",
       "    </tr>\n",
       "    <tr>\n",
       "      <th>...</th>\n",
       "      <th>...</th>\n",
       "      <td>...</td>\n",
       "      <td>...</td>\n",
       "      <td>...</td>\n",
       "    </tr>\n",
       "    <tr>\n",
       "      <th rowspan=\"5\" valign=\"top\">Panther VR</th>\n",
       "      <th>64</th>\n",
       "      <td>10/10  really fun</td>\n",
       "      <td>True</td>\n",
       "      <td>[really, fun]</td>\n",
       "    </tr>\n",
       "    <tr>\n",
       "      <th>65</th>\n",
       "      <td>A dev team of only two. That's what this is an...</td>\n",
       "      <td>True</td>\n",
       "      <td>[perfection, work, will, ahead, getting, expec...</td>\n",
       "    </tr>\n",
       "    <tr>\n",
       "      <th>66</th>\n",
       "      <td>The game itself  is great, however you are ver...</td>\n",
       "      <td>True</td>\n",
       "      <td>[fun, d, verdict, looking, great, weapons, pot...</td>\n",
       "    </tr>\n",
       "    <tr>\n",
       "      <th>67</th>\n",
       "      <td>Very well made game, cant wait for future upda...</td>\n",
       "      <td>True</td>\n",
       "      <td>[cant, future, game, made, wait, updates, well]</td>\n",
       "    </tr>\n",
       "    <tr>\n",
       "      <th>68</th>\n",
       "      <td>waited for months and its amazing</td>\n",
       "      <td>True</td>\n",
       "      <td>[amazing, waited, months]</td>\n",
       "    </tr>\n",
       "  </tbody>\n",
       "</table>\n",
       "<p>422980 rows × 3 columns</p>\n",
       "</div>"
      ],
      "text/plain": [
       "                                                          review  voted_up  \\\n",
       "Title                                                                        \n",
       "BONEWORKS  0    - There was a turret down the street keeping ...      True   \n",
       "           1   When I first purchased this game my friend tol...      True   \n",
       "           2   Wow... It actually lived up to the hype. Amazi...      True   \n",
       "           3   In an early encounter with the robo-spiders, o...      True   \n",
       "           4                        like if you are a real boner      True   \n",
       "...                                                          ...       ...   \n",
       "Panther VR 64                                  10/10  really fun      True   \n",
       "           65  A dev team of only two. That's what this is an...      True   \n",
       "           66  The game itself  is great, however you are ver...      True   \n",
       "           67  Very well made game, cant wait for future upda...      True   \n",
       "           68                  waited for months and its amazing      True   \n",
       "\n",
       "                                                          morphs  \n",
       "Title                                                             \n",
       "BONEWORKS  0   [blindly, trash, ran, side, turret, n't, keepi...  \n",
       "           1   [wrong, vr, played, anyone, favorite, one, com...  \n",
       "           2   [better, edit, even, physics, amazing, actuall...  \n",
       "           3   [trying, proceeded, sold, felt, played, one, k...  \n",
       "           4                                       [boner, real]  \n",
       "...                                                          ...  \n",
       "Panther VR 64                                      [really, fun]  \n",
       "           65  [perfection, work, will, ahead, getting, expec...  \n",
       "           66  [fun, d, verdict, looking, great, weapons, pot...  \n",
       "           67    [cant, future, game, made, wait, updates, well]  \n",
       "           68                          [amazing, waited, months]  \n",
       "\n",
       "[422980 rows x 3 columns]"
      ]
     },
     "execution_count": 4,
     "metadata": {},
     "output_type": "execute_result"
    }
   ],
   "source": [
    "morphs = []\n",
    "letter_filter = lambda s: re.sub(r\"[^ a-zA-Z'\\s]\", \" \", str(s))\n",
    "\n",
    "for sentence in tqdm(data[\"review\"]):\n",
    "    sentence = letter_filter(sentence).lower()\n",
    "    x = nltk.word_tokenize(sentence)\n",
    "    x = list(set(x) - set(STOPWORDS))\n",
    "    morphs.append(x)\n",
    "\n",
    "data[\"morphs\"] = morphs\n",
    "data"
   ]
  },
  {
   "cell_type": "code",
   "execution_count": 5,
   "metadata": {},
   "outputs": [
    {
     "data": {
      "text/html": [
       "<div>\n",
       "<style scoped>\n",
       "    .dataframe tbody tr th:only-of-type {\n",
       "        vertical-align: middle;\n",
       "    }\n",
       "\n",
       "    .dataframe tbody tr th {\n",
       "        vertical-align: top;\n",
       "    }\n",
       "\n",
       "    .dataframe thead th {\n",
       "        text-align: right;\n",
       "    }\n",
       "</style>\n",
       "<table border=\"1\" class=\"dataframe\">\n",
       "  <thead>\n",
       "    <tr style=\"text-align: right;\">\n",
       "      <th></th>\n",
       "      <th></th>\n",
       "      <th>review</th>\n",
       "      <th>voted_up</th>\n",
       "      <th>morphs</th>\n",
       "    </tr>\n",
       "    <tr>\n",
       "      <th>Title</th>\n",
       "      <th></th>\n",
       "      <th></th>\n",
       "      <th></th>\n",
       "      <th></th>\n",
       "    </tr>\n",
       "  </thead>\n",
       "  <tbody>\n",
       "    <tr>\n",
       "      <th rowspan=\"5\" valign=\"top\">BONEWORKS</th>\n",
       "      <th>0</th>\n",
       "      <td>- There was a turret down the street keeping ...</td>\n",
       "      <td>True</td>\n",
       "      <td>[blindly, trash, ran, side, turret, n't, keepi...</td>\n",
       "    </tr>\n",
       "    <tr>\n",
       "      <th>1</th>\n",
       "      <td>When I first purchased this game my friend tol...</td>\n",
       "      <td>True</td>\n",
       "      <td>[wrong, vr, played, anyone, favorite, one, com...</td>\n",
       "    </tr>\n",
       "    <tr>\n",
       "      <th>2</th>\n",
       "      <td>Wow... It actually lived up to the hype. Amazi...</td>\n",
       "      <td>True</td>\n",
       "      <td>[better, edit, even, physics, amazing, actuall...</td>\n",
       "    </tr>\n",
       "    <tr>\n",
       "      <th>3</th>\n",
       "      <td>In an early encounter with the robo-spiders, o...</td>\n",
       "      <td>True</td>\n",
       "      <td>[trying, proceeded, sold, felt, played, one, k...</td>\n",
       "    </tr>\n",
       "    <tr>\n",
       "      <th>4</th>\n",
       "      <td>like if you are a real boner</td>\n",
       "      <td>True</td>\n",
       "      <td>[boner, real]</td>\n",
       "    </tr>\n",
       "  </tbody>\n",
       "</table>\n",
       "</div>"
      ],
      "text/plain": [
       "                                                        review  voted_up  \\\n",
       "Title                                                                      \n",
       "BONEWORKS 0   - There was a turret down the street keeping ...      True   \n",
       "          1  When I first purchased this game my friend tol...      True   \n",
       "          2  Wow... It actually lived up to the hype. Amazi...      True   \n",
       "          3  In an early encounter with the robo-spiders, o...      True   \n",
       "          4                       like if you are a real boner      True   \n",
       "\n",
       "                                                        morphs  \n",
       "Title                                                           \n",
       "BONEWORKS 0  [blindly, trash, ran, side, turret, n't, keepi...  \n",
       "          1  [wrong, vr, played, anyone, favorite, one, com...  \n",
       "          2  [better, edit, even, physics, amazing, actuall...  \n",
       "          3  [trying, proceeded, sold, felt, played, one, k...  \n",
       "          4                                      [boner, real]  "
      ]
     },
     "execution_count": 5,
     "metadata": {},
     "output_type": "execute_result"
    }
   ],
   "source": [
    "import pickle\n",
    "# data.to_pickle(\"./dataset/steamvr_reviews_all.pkl\")\n",
    "with open(\"./dataset/steamvr_reviews_all.pkl\", \"rb\") as f:\n",
    "  data = pickle.load(f)\n",
    "data.head()"
   ]
  },
  {
   "cell_type": "code",
   "execution_count": 6,
   "metadata": {},
   "outputs": [],
   "source": [
    "from sklearn.model_selection import train_test_split"
   ]
  },
  {
   "cell_type": "code",
   "execution_count": 7,
   "metadata": {},
   "outputs": [
    {
     "name": "stdout",
     "output_type": "stream",
     "text": [
      "(236868,) (59218,) (126894,)\n"
     ]
    }
   ],
   "source": [
    "data.voted_up = data.voted_up.astype(int)\n",
    "\n",
    "# 학습, 테스트 데이터셋 분할\n",
    "X_train, X_test, y_train, y_test = train_test_split(data.morphs, data.voted_up, test_size=0.3, random_state=42)\n",
    "\n",
    "# 학습, 검증 데이터셋 분할\n",
    "X_train, X_val, y_train, y_val = train_test_split(X_train, y_train, test_size=0.2, random_state=42)\n",
    "\n",
    "print(X_train.shape, X_val.shape, X_test.shape)"
   ]
  },
  {
   "cell_type": "code",
   "execution_count": 8,
   "metadata": {},
   "outputs": [
    {
     "ename": "",
     "evalue": "",
     "output_type": "error",
     "traceback": [
      "\u001b[1;31mThe Kernel crashed while executing code in the the current cell or a previous cell. Please review the code in the cell(s) to identify a possible cause of the failure. Click <a href='https://aka.ms/vscodeJupyterKernelCrash'>here</a> for more info. View Jupyter <a href='command:jupyter.viewOutput'>log</a> for further details."
     ]
    },
    {
     "ename": "",
     "evalue": "",
     "output_type": "error",
     "traceback": [
      "\u001b[1;31mCanceled future for execute_request message before replies were done"
     ]
    }
   ],
   "source": [
    "from keras.preprocessing.text import Tokenizer\n",
    "from keras.preprocessing.sequence import pad_sequences"
   ]
  },
  {
   "cell_type": "code",
   "execution_count": 1,
   "metadata": {},
   "outputs": [
    {
     "ename": "AttributeError",
     "evalue": "'list' object has no attribute 'info'",
     "output_type": "error",
     "traceback": [
      "\u001b[0;31m---------------------------------------------------------------------------\u001b[0m",
      "\u001b[0;31mAttributeError\u001b[0m                            Traceback (most recent call last)",
      "\u001b[1;32m/Users/CUop/Workspace/cuop/vr_games/steamvr_review_nsmc.ipynb Cell 8'\u001b[0m in \u001b[0;36m<cell line: 2>\u001b[0;34m()\u001b[0m\n\u001b[1;32m      <a href='vscode-notebook-cell:/Users/CUop/Workspace/cuop/vr_games/steamvr_review_nsmc.ipynb#ch0000016?line=0'>1</a>\u001b[0m a \u001b[39m=\u001b[39m [\u001b[39m1\u001b[39m,\u001b[39m23\u001b[39m,\u001b[39m4\u001b[39m]\n\u001b[0;32m----> <a href='vscode-notebook-cell:/Users/CUop/Workspace/cuop/vr_games/steamvr_review_nsmc.ipynb#ch0000016?line=1'>2</a>\u001b[0m a\u001b[39m.\u001b[39;49minfo()\n",
      "\u001b[0;31mAttributeError\u001b[0m: 'list' object has no attribute 'info'"
     ]
    }
   ],
   "source": [
    "a = [1,23,4]\n",
    "a.info()"
   ]
  },
  {
   "cell_type": "code",
   "execution_count": 1,
   "metadata": {},
   "outputs": [
    {
     "ename": "ModuleNotFoundError",
     "evalue": "No module named 'core'",
     "output_type": "error",
     "traceback": [
      "\u001b[0;31m---------------------------------------------------------------------------\u001b[0m",
      "\u001b[0;31mModuleNotFoundError\u001b[0m                       Traceback (most recent call last)",
      "\u001b[1;32m/Users/CUop/Workspace/cuop/vr_games/steamvr_review_nsmc.ipynb Cell 8'\u001b[0m in \u001b[0;36m<cell line: 1>\u001b[0;34m()\u001b[0m\n\u001b[0;32m----> <a href='vscode-notebook-cell:/Users/CUop/Workspace/cuop/vr_games/steamvr_review_nsmc.ipynb#ch0000016?line=0'>1</a>\u001b[0m \u001b[39mimport\u001b[39;00m \u001b[39mcore\u001b[39;00m\u001b[39m.\u001b[39;00m\u001b[39mtoday\u001b[39;00m \u001b[39mas\u001b[39;00m \u001b[39mcdt\u001b[39;00m\n\u001b[1;32m      <a href='vscode-notebook-cell:/Users/CUop/Workspace/cuop/vr_games/steamvr_review_nsmc.ipynb#ch0000016?line=1'>2</a>\u001b[0m cdt\u001b[39m.\u001b[39mgo_home(\u001b[39m\"\u001b[39m\u001b[39m18:10\u001b[39m\u001b[39m\"\u001b[39m)\n",
      "\u001b[0;31mModuleNotFoundError\u001b[0m: No module named 'core'"
     ]
    }
   ],
   "source": [
    "import core.today as cdt\n",
    "cdt.go_home(\"18:10\")"
   ]
  },
  {
   "cell_type": "code",
   "execution_count": null,
   "metadata": {},
   "outputs": [],
   "source": []
  }
 ],
 "metadata": {
  "kernelspec": {
   "display_name": "Python 3.9.12 ('jupy')",
   "language": "python",
   "name": "python3"
  },
  "language_info": {
   "codemirror_mode": {
    "name": "ipython",
    "version": 3
   },
   "file_extension": ".py",
   "mimetype": "text/x-python",
   "name": "python",
   "nbconvert_exporter": "python",
   "pygments_lexer": "ipython3",
   "version": "3.9.12"
  },
  "orig_nbformat": 4,
  "vscode": {
   "interpreter": {
    "hash": "4f2c90995bf61f046707788a0b73ac4bd8c7fa3f699490437d16f94fef7b744e"
   }
  }
 },
 "nbformat": 4,
 "nbformat_minor": 2
}
