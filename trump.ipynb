{
 "cells": [
  {
   "cell_type": "code",
   "execution_count": 108,
   "metadata": {},
   "outputs": [],
   "source": [
    "import random\n",
    "from functools import reduce"
   ]
  },
  {
   "cell_type": "code",
   "execution_count": 183,
   "metadata": {},
   "outputs": [],
   "source": [
    "SYMBOLS = [\"♠︎\", \"♥︎\", \"♦︎\", \"♣︎\"]\n",
    "NUMBERS = [\"A\", \"2\", \"3\", \"4\", \"5\", \"6\", \"7\", \"8\", \"9\", \"10\", \"J\", \"Q\", \"K\"]\n",
    "NUMBERS_UPPER_ACE = [\"2\", \"3\", \"4\", \"5\", \"6\", \"7\", \"8\", \"9\", \"10\", \"J\", \"Q\", \"K\", \"A\"]\n",
    "\n",
    "class Card:\n",
    "    def __init__(self, symbol:str, number:str):\n",
    "        self.symbol = symbol\n",
    "        self.number = str(number)\n",
    "    \n",
    "    def __str__(self):\n",
    "        return self.symbol + self.number\n",
    "\n",
    "    def __repr__(self):\n",
    "        return self.symbol + self.number\n"
   ]
  },
  {
   "cell_type": "code",
   "execution_count": 175,
   "metadata": {},
   "outputs": [],
   "source": [
    "def generate_deck():\n",
    "    deck = []\n",
    "    for s in SYMBOLS:\n",
    "        for n in NUMBERS:\n",
    "            deck.append(Card(s, n))\n",
    "    return deck\n",
    "\n",
    "def draw_card(deck):\n",
    "    return deck.pop(0)\n",
    "\n",
    "def check_flush(cards):\n",
    "    unique_symbols = list(set([c.symbol for c in cards]))\n",
    "    \n",
    "    for symbol in unique_symbols:\n",
    "        if len([c for c in cards if c.symbol == symbol]) >= 5:\n",
    "            return True\n",
    "    else:\n",
    "        return False\n",
    "\n",
    "def check_straight(cards):\n",
    "    _cards = sorted(cards, key=lambda x: NUMBERS.index(x.number))\n",
    "    for i in range(len(cards) - 4):\n",
    "        for j in range(4):\n",
    "            if NUMBERS.index(_cards[i+j].number) + 1 != NUMBERS.index(_cards[i+j+1].number):\n",
    "                break\n",
    "        else:\n",
    "            return True\n",
    "    \n",
    "    # For the case of mountain\n",
    "    _cards = sorted(cards, key=lambda x: NUMBERS_UPPER_ACE.index(x.number))\n",
    "    for i in range(len(cards) - 4):\n",
    "        for j in range(4):\n",
    "            if NUMBERS_UPPER_ACE.index(_cards[i+j].number) + 1 != NUMBERS_UPPER_ACE.index(_cards[i+j+1].number):\n",
    "                break\n",
    "        else:\n",
    "            return True\n",
    "\n",
    "    return False\n",
    "\n",
    "def get_duplicates(cards):\n",
    "    def counts_by_number(acc, cur):\n",
    "        number = cur.number\n",
    "        if number not in acc:\n",
    "            acc[number] = 0\n",
    "        acc[number] += 1\n",
    "        return acc\n",
    "    \n",
    "    res = reduce(counts_by_number, cards, {})\n",
    "    # Remove not duplication (1)\n",
    "    res = [e for e in res.items() if e[1] > 1]\n",
    "    res.sort(key=lambda x:NUMBERS_UPPER_ACE.index(x[0]), reverse=True)\n",
    "    res.sort(key=lambda x:x[1], reverse=True)\n",
    "    return res\n",
    "\n",
    "def compare_kicker(cards1, cards2):\n",
    "    pass\n",
    "\n",
    "def determine_combination(cards):\n",
    "    is_flush = check_flush(cards)\n",
    "    is_straight = check_straight(cards)\n",
    "    duplicates = get_duplicates(cards)\n",
    "    \n",
    "    if is_flush and is_straight:\n",
    "        return \"straight_flush\"\n",
    "    elif duplicates and duplicates[0][1] == 4:\n",
    "        return \"four_cards\"\n",
    "    elif len(duplicates) >= 2 and duplicates[0][1] >= 3 and duplicates[1][1] >= 2:\n",
    "        return \"full_house\"\n",
    "    elif is_flush:\n",
    "        return \"flush\"\n",
    "    elif is_straight:\n",
    "        return \"straight\"\n",
    "    elif duplicates and duplicates[0][1] == 3:\n",
    "        return \"triple\"\n",
    "    elif len(duplicates) >= 2 and duplicates[0][1] == 2 and duplicates[1][1] == 2:\n",
    "        return \"two_pair\"\n",
    "    elif duplicates and duplicates[0][1] == 2:\n",
    "        return \"one_pair\"\n",
    "    else:\n",
    "        return \"high\"\n",
    "    "
   ]
  },
  {
   "cell_type": "code",
   "execution_count": 204,
   "metadata": {},
   "outputs": [
    {
     "name": "stdout",
     "output_type": "stream",
     "text": [
      "[♥︎10, ♠︎10, ♥︎J, ♠︎7, ♥︎5, ♥︎4, ♦︎4]\n",
      "two_pair\n"
     ]
    }
   ],
   "source": [
    "deck = generate_deck()\n",
    "random.shuffle(deck)\n",
    "hand = [draw_card(deck) for i in range(7)]\n",
    "print(hand)\n",
    "print(determine_combination(hand))"
   ]
  },
  {
   "cell_type": "code",
   "execution_count": 174,
   "metadata": {},
   "outputs": [
    {
     "name": "stdout",
     "output_type": "stream",
     "text": [
      "[♥︎7, ♣︎2, ♣︎3, ♣︎4, ♣︎5, ♣︎6]\n",
      "True\n",
      "True\n",
      "[♣︎A, ♣︎10, ♣︎J, ♣︎Q, ♣︎K]\n",
      "True\n",
      "[♣︎A, ♣︎2, ♣︎J, ♣︎J, ♣︎2, ♣︎A, ♣︎A]\n",
      "[('A', 3), ('J', 2), ('2', 2)]\n"
     ]
    }
   ],
   "source": [
    "test = [Card(\"♥︎\", \"7\")] + [Card(\"♣︎\", str(i)) for i in range(2, 7)]\n",
    "print(test)\n",
    "print(check_flush(test))\n",
    "print(check_straight(test))\n",
    "\n",
    "test2 = [Card(\"♣︎\", \"A\"), Card(\"♣︎\", \"10\"), Card(\"♣︎\", \"J\"), Card(\"♣︎\", \"Q\"), Card(\"♣︎\", \"K\")]\n",
    "print(test2)\n",
    "print(check_straight(test2))\n",
    "\n",
    "test3 = [Card(\"♣︎\", \"A\"), Card(\"♣︎\", \"2\"), Card(\"♣︎\", \"J\"), Card(\"♣︎\", \"J\"), Card(\"♣︎\", \"2\"), Card(\"♣︎\", \"A\"), Card(\"♣︎\", \"A\")]\n",
    "print(test3)\n",
    "print(get_duplicates(test3))"
   ]
  },
  {
   "cell_type": "code",
   "execution_count": null,
   "metadata": {},
   "outputs": [],
   "source": []
  }
 ],
 "metadata": {
  "kernelspec": {
   "display_name": "Python 3.9.12",
   "language": "python",
   "name": "python3"
  },
  "language_info": {
   "codemirror_mode": {
    "name": "ipython",
    "version": 3
   },
   "file_extension": ".py",
   "mimetype": "text/x-python",
   "name": "python",
   "nbconvert_exporter": "python",
   "pygments_lexer": "ipython3",
   "version": "3.9.12"
  },
  "orig_nbformat": 4,
  "vscode": {
   "interpreter": {
    "hash": "a4a17a9d2a31694b30882ee3f197d4d71ed0e2f1f345db5ac1b5d5b249e97230"
   }
  }
 },
 "nbformat": 4,
 "nbformat_minor": 2
}
